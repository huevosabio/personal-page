{
 "cells": [
  {
   "cell_type": "markdown",
   "metadata": {},
   "source": [
    "# Geometric Median as the Optimal Location for a Substation for a given Collection System"
   ]
  },
  {
   "cell_type": "markdown",
   "metadata": {},
   "source": [
    "## Problem Description"
   ]
  },
  {
   "cell_type": "markdown",
   "metadata": {},
   "source": [
    "For a given wind farm layout with turbine locations $T$ and a collection system with initial circuit locations $C$ and grid connection $\\mathbf{g}$, we must find a substation location $\\mathbf{s}$ that minimizes the sum of the cabling cost required to connect the circuits to the substation and the substation to the grid connection point. The general problem formulation can be expressed as follows:"
   ]
  },
  {
   "cell_type": "markdown",
   "metadata": {},
   "source": [
    "$$\\mathbf{s} = arg min_\\mathbf{s}(\\sum_{i=1}^{m} ||\\mathbf{C_i}- \\mathbf{s}|| + ||\\mathbf{s} - \\mathbf{g}||) $$"
   ]
  },
  {
   "cell_type": "markdown",
   "metadata": {},
   "source": [
    "where $m$ denotes the total number of circuit endpoints. "
   ]
  },
  {
   "cell_type": "markdown",
   "metadata": {},
   "source": [
    "It must be noted that for a given wind farm layout, the collection system can take different forms as it optimality depends on the location of the substation. Thus, the problem of the substation and collection design is a coupled one. This attempt will take an iterative approach and will assume an initial collection system and circuit endpoints (which themselves can be chosen diferently depending on the substation location). "
   ]
  },
  {
   "cell_type": "markdown",
   "metadata": {},
   "source": [
    "With this in mind, the innermost loop of our iterative approach consists of finding the <a href=http://en.wikipedia.org/wiki/Geometric_median>Geometric Median</a> of the circuit endpoints and a weighted grid connection point."
   ]
  },
  {
   "cell_type": "markdown",
   "metadata": {},
   "source": [
    "## Computation"
   ]
  },
  {
   "cell_type": "markdown",
   "metadata": {},
   "source": [
    "From the above referenced article, we find that the computation of the Geometric Median \"has been shown that no explicit formula, nor an exact algorithm involving only arithmetic operations and kth roots can exist in general\". The article also points to Weiszfeld's algorithm as a common approach to solve the problem. The method can be expressed as follows: "
   ]
  },
  {
   "cell_type": "markdown",
   "metadata": {},
   "source": [
    "$$y_{i+1} = (\\sum_{k=1}^p \\frac{x_j}{||x_j-y_i||})/(\\sum_{k=1}^p \\frac{1}{||x_j-y_i||})$$"
   ]
  },
  {
   "cell_type": "markdown",
   "metadata": {},
   "source": [
    "The first pass of this problem will be a simple implementation of the Weiszfeld's algorithm. It has been noted, however, that this problem is convex. Thus, in the second implementation we will use a Convex Optimization library called <a href=http://cvxopt.org/index.html>CVXOPT</a>. Finally, we will use whichever implementation turns out to be faster for the final build. Additionally, we will generalize the original problem to:"
   ]
  },
  {
   "cell_type": "markdown",
   "metadata": {},
   "source": [
    "$$\\sum_{i=1}^n w_i||x_i - y||$$"
   ]
  },
  {
   "cell_type": "markdown",
   "metadata": {},
   "source": [
    "and the iterative solution:"
   ]
  },
  {
   "cell_type": "markdown",
   "metadata": {},
   "source": [
    "$$y_{i+1} = (\\sum_{k=1}^p \\frac{w_ix_j}{||x_j-y_i||})/(\\sum_{k=1}^p \\frac{w_i}{||x_j-y_i||})$$"
   ]
  },
  {
   "cell_type": "markdown",
   "metadata": {},
   "source": [
    "in this case, the weight $w_i$ of each point will be $1$ except for the point corresponding to the grid connection. A future sophistication will involve using the appropiate weight for the given cable (based on capital cost and energy loss). Henceforth we will assume that the first entry of $\\mathbf{X}$ is the grid connection point."
   ]
  },
  {
   "cell_type": "markdown",
   "metadata": {},
   "source": [
    "## Weiszfeld's Algorithm Implementation"
   ]
  },
  {
   "cell_type": "markdown",
   "metadata": {},
   "source": [
    "As stated the problem will convert the set of circuit endpoints and the grid connection to a $\\mathbf{X}_{(n+1)\\times2}$ matrix with the first row representing the substation. Additionally, we have $\\mathbf{w}$ which has the weights and $y$ which is our substation estimate."
   ]
  },
  {
   "cell_type": "markdown",
   "metadata": {},
   "source": [
    "First, let's import all required libraries."
   ]
  },
  {
   "cell_type": "code",
   "execution_count": 1,
   "metadata": {},
   "outputs": [],
   "source": [
    "%matplotlib inline\n",
    "import numpy as np\n",
    "import pandas as pd\n",
    "import matplotlib.pyplot as plt\n",
    "from matplotlib.colors import BoundaryNorm\n",
    "from matplotlib.ticker import MaxNLocator\n",
    "pd.set_option('display.mpl_style', 'default')\n",
    "plt.rcParams['figure.figsize'] = (16, 10)"
   ]
  },
  {
   "cell_type": "markdown",
   "metadata": {},
   "source": [
    "Now, we need to create a function that takes a set of locations and a grid connection\n",
    "\\position and returns $\\mathbf{X}$ and a function that takes the weight estimated for the grid connection cable and returns our $w$."
   ]
  },
  {
   "cell_type": "code",
   "execution_count": 2,
   "metadata": {},
   "outputs": [],
   "source": [
    "def create_point_matrix(grid,circuits,gridWeight):\n",
    "    #note: grid connection should be of the form [x,y]\n",
    "    #note: circuits should be of the form [[x,y],[a,b]]\n",
    "    #note: grid weight is a scalar\n",
    "    x = np.concatenate(((np.array([grid],dtype=np.float32)),np.array(circuits,dtype=np.float32)))\n",
    "    w = np.ones(x.shape[0])\n",
    "    w[0] = gridWeight\n",
    "    w = np.diag(w)\n",
    "    return x,w\n"
   ]
  },
  {
   "cell_type": "markdown",
   "metadata": {},
   "source": [
    "Now that we are able to create our input variables we need to create the  actual algortihm. The process consists of giving an initial guess and then gradually improving according to Weiszfeld's algorithm. We will provide the center of mass as the initial guess (and we expect it to be a fairly good one). Additionally, we will take an optional argument that specifies the stopping point (based on proportional improvement)."
   ]
  },
  {
   "cell_type": "code",
   "execution_count": 3,
   "metadata": {},
   "outputs": [],
   "source": [
    "def sum_of_distances(X,W,y):\n",
    "    return np.sum(np.dot(W,np.linalg.norm((X-y),axis=1)))\n",
    "\n",
    "def new_point(X,W,y):\n",
    "    #get the top\n",
    "    topNumerator = np.dot(W,X)\n",
    "    topDenominator = np.linalg.norm(X-y,axis=1)\n",
    "    top = np.sum(np.divide(topNumerator.transpose(),topDenominator).transpose(),axis=0)\n",
    "    bottom = np.sum(np.divide(W,topDenominator))\n",
    "    yNew = top/bottom\n",
    "    return yNew\n",
    "    \n",
    "\n",
    "def weiszfeld(X,W,stop=0.0001):\n",
    "    #get the first guess\n",
    "    y = np.sum(X,axis=0)/len(X)\n",
    "    f = sum_of_distances(X,W,y)\n",
    "    diff = 1.0\n",
    "    while diff > stop:\n",
    "        yNew = new_point(X,W,y)\n",
    "        fNew = sum_of_distances(X,W,yNew)\n",
    "        diff = np.absolute(f-fNew)/f\n",
    "        y = yNew\n",
    "        f = fNew\n",
    "    return y\n",
    "    "
   ]
  },
  {
   "cell_type": "markdown",
   "metadata": {},
   "source": [
    "With this basic code we should be able to test our implementation."
   ]
  },
  {
   "cell_type": "markdown",
   "metadata": {},
   "source": [
    "## Testing Weiszfeld's Algorithm"
   ]
  },
  {
   "cell_type": "markdown",
   "metadata": {},
   "source": [
    "As a first test we will provide a known (arbitrary) set of four circuit end points and a grid connection point. Later, we will try several near location to see if our algorithm did get as close as possible to the optimum."
   ]
  },
  {
   "cell_type": "code",
   "execution_count": 4,
   "metadata": {},
   "outputs": [],
   "source": [
    "#Define our arbitrary points\n",
    "grid = [10.0,10.0]\n",
    "circuits = [[1.,1.],[1.,2.],[1.,3.],[1.,4.],[1.,5.],[1.,6.],[1.,7.],[1.,8.],[1.,9.]]\n",
    "gridWeight = 2."
   ]
  },
  {
   "cell_type": "code",
   "execution_count": 5,
   "metadata": {},
   "outputs": [],
   "source": [
    "#Get our X and W\n",
    "x,w = create_point_matrix(grid,circuits,gridWeight)"
   ]
  },
  {
   "cell_type": "code",
   "execution_count": 6,
   "metadata": {},
   "outputs": [],
   "source": [
    "#find the ideal point\n",
    "optimum = weiszfeld(x,w)"
   ]
  },
  {
   "cell_type": "code",
   "execution_count": 7,
   "metadata": {},
   "outputs": [
    {
     "data": {
      "text/plain": [
       "array([ 1.28127204,  5.47754765])"
      ]
     },
     "execution_count": 7,
     "metadata": {},
     "output_type": "execute_result"
    }
   ],
   "source": [
    "optimum"
   ]
  },
  {
   "cell_type": "markdown",
   "metadata": {},
   "source": [
    "Now we have a working implementation of Weisfeld's. Let's draw a contour to see how it compares to the surrounding area."
   ]
  },
  {
   "cell_type": "code",
   "execution_count": 8,
   "metadata": {},
   "outputs": [
    {
     "name": "stderr",
     "output_type": "stream",
     "text": [
      "/home/ramon/development/notebooks/venv/local/lib/python2.7/site-packages/matplotlib/font_manager.py:1282: UserWarning: findfont: Font family [u'monospace'] not found. Falling back to Bitstream Vera Sans\n",
      "  (prop.get_family(), self.defaultFamily[fontext]))\n"
     ]
    },
    {
     "data": {
      "image/png": "[encoded data removed]",
      "text/plain": [
       "<matplotlib.figure.Figure at 0x7ffc63a28210>"
      ]
     },
     "metadata": {},
     "output_type": "display_data"
    }
   ],
   "source": [
    "# make these smaller to increase the resolution\n",
    "dx, dy = 0.05, 0.05\n",
    "\n",
    "# generate 2 2d grids for the x & y bounds\n",
    "u, v = np.mgrid[slice(0, 11 + dy, dy),\n",
    "                slice(0, 11 + dx, dx)]\n",
    "\n",
    "z = np.zeros((len(u),len(v)))\n",
    "\n",
    "for i in range(len(z)):\n",
    "    for j in range(len(z[i])):\n",
    "        p = np.array([v[i][j],u[i][j]])\n",
    "        z[i][j] = sum_of_distances(x,w,p)\n",
    "\n",
    "# x and y are bounds, so z should be the value *inside* those bounds.\n",
    "# Therefore, remove the last value from the z array.\n",
    "z = z[:-1, :-1]\n",
    "levels = MaxNLocator(nbins=15).tick_values(z.min(), z.max())\n",
    "\n",
    "\n",
    "# pick the desired colormap, sensible levels, and define a normalization\n",
    "# instance which takes data values and translates those into levels.\n",
    "cmap = plt.get_cmap('PiYG')\n",
    "norm = BoundaryNorm(levels, ncolors=cmap.N, clip=True)\n",
    "\n",
    "\n",
    "#plt.subplot(2, 1, 2)\n",
    "# contours are *point* based plots, so convert our bound into point\n",
    "# centers\n",
    "plt.contourf(v[:-1, :-1] + dx / 2.,\n",
    "             u[:-1, :-1] + dy / 2., z, levels=levels,\n",
    "             cmap=cmap)\n",
    "plt.colorbar()\n",
    "plt.title('Sum of Distance Contour')\n",
    "plt.scatter(optimum[0],optimum[1],marker=\"+\")\n",
    "\n",
    "plt.show()"
   ]
  },
  {
   "cell_type": "markdown",
   "metadata": {},
   "source": [
    "As seen in the plot above, our result is very well positioned. Further tests should include more complex positioning, test for speed as the number of points increases, and how much better this is than simply estimating the center of mass."
   ]
  }
 ],
 "metadata": {
  "kernelspec": {
   "display_name": "Python 2",
   "language": "python",
   "name": "python2"
  },
  "language_info": {
   "codemirror_mode": {
    "name": "ipython",
    "version": 2
   },
   "file_extension": ".py",
   "mimetype": "text/x-python",
   "name": "python",
   "nbconvert_exporter": "python",
   "pygments_lexer": "ipython2",
   "version": "2.7.10"
  }
 },
 "nbformat": 4,
 "nbformat_minor": 1
}
