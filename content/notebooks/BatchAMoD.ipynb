{
 "cells": [
  {
   "cell_type": "markdown",
   "metadata": {},
   "source": [
    "# Including Public Transit interaction with AMoD Systems: Batch Arrivals"
   ]
  },
  {
   "cell_type": "markdown",
   "metadata": {},
   "source": [
    "In [our recent paper](http://arxiv.org/abs/1607.04357), we proposed a BCMP network approach to model and control Autonomous Mobility-on-Demand (AMoD) systems, i.e. a fleet of autonomous taxis. The model was well suited to cope with the stochasticity found in such systems and also allowed us to limit the impact that the fleet would have on traffic congestion. A test on a simplified model of Manhattan validated our approach.\n",
    "\n",
    "A common concern, however, is that AMoD systems will likely compete with public transit, rather than private cars. This is undesireable because public transit will most likely be more environmentally friendly than a fleet of self-driving vehicles and because a shift of users from public transit to AMoD would mean more cars in the road network and congestion. In fact, a [recent paper tried this in a microsimulator](http://publications.lib.chalmers.se/records/fulltext/237733/237733.pdf) and found that indeed most of the mode shift was from walking and public transit, rather than private cars (of course, it is very scenario specific, and one would need to look at all the assumptions made). The paper, doesn't allow for multi-modal travel between AMoD and public transit, an idea that has been circulating for a while and that promises to allievate one of the main deterrents for the adoption of public transit: [the last mile problem](https://en.wikipedia.org/wiki/Last_mile_(transportation)). \n",
    "\n",
    "An example of how autonomous fleets could serve as the transportation mode for the last mile can be found in this [TU Delft paper](http://repository.tudelft.nl/islandora/object/uuid:69af32e0-c8df-45c0-8eaa-ab892d5f8a73?collection=education), and many others have suggested different Personal Rapid Transit (PRT) systems to address the issue. As far as I know, there is no paper or study that has considered or designed and AMoD system that is serving both as a main mode of transportation, and as a first/last mile feeder.\n",
    "\n",
    "From the body of literature that our BCMP paper draws inspiration from, the two types of formulations are the following: (i) static, open-loop control (and the approach the paper itself took), and (ii) real-time, closed-loop control. For the BCMP formulation to include the public transportation, we need to take into account the fact that multiple passengers arrive at the same time, i.e. batch arrivals."
   ]
  },
  {
   "cell_type": "markdown",
   "metadata": {
    "collapsed": true
   },
   "source": [
    "## Adding batch arrivals to a BCMP network\n",
    "\n",
    "First, if we include batch nodes, would our network still able to model the AMoD system? The following would make me confident that it will:\n",
    "\n",
    "- 1) Get an expression for the product form\n",
    "- 2) Get an expression for the marginal queue length probability\n",
    "- 3) Get an expression for availability\n",
    "- 4) Proof that the \"asymptotic bottleneck effecet\" happens in batch enhanced networks\n",
    "- 5) Can a batch SS be a bottleneck, i.e. will its availability go to 1? \n",
    "\n",
    "If all of the above hold, then we can continue to deal with computing the performance metrics, namely:\n",
    "\n",
    "- 6) Find MVA algorithm for closed queuing networks with batch services\n",
    "- 7) Show (or reference if its done) that it is sufficiently efficient (define what that means) for large scale networks.\n",
    "\n",
    "Should these two hold, then we are in a good place to model customer arriving from PT trip legs. At that point, the next steps would be to (i) model the AMoD network and (ii) find an problem formulation that allows it to be efficiently solved."
   ]
  }
 ],
 "metadata": {
  "kernelspec": {
   "display_name": "Python 2",
   "language": "python",
   "name": "python2"
  },
  "language_info": {
   "codemirror_mode": {
    "name": "ipython",
    "version": 2
   },
   "file_extension": ".py",
   "mimetype": "text/x-python",
   "name": "python",
   "nbconvert_exporter": "python",
   "pygments_lexer": "ipython2",
   "version": "2.7.10"
  }
 },
 "nbformat": 4,
 "nbformat_minor": 1
}
